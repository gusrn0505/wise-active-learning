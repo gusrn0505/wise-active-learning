{
 "cells": [
  {
   "cell_type": "code",
   "execution_count": 1,
   "metadata": {},
   "outputs": [
    {
     "name": "stderr",
     "output_type": "stream",
     "text": [
      "c:\\Users\\user\\.conda\\envs\\active_learning\\lib\\site-packages\\tqdm\\auto.py:22: TqdmWarning: IProgress not found. Please update jupyter and ipywidgets. See https://ipywidgets.readthedocs.io/en/stable/user_install.html\n",
      "  from .autonotebook import tqdm as notebook_tqdm\n"
     ]
    },
    {
     "name": "stdout",
     "output_type": "stream",
     "text": [
      "Log dir: log/test/trial_11\n",
      "random, passive, 2 initial wsi per class, 3 wsi per generation, 20 patches per wsi\n",
      "# of unlabled_pool:  4695\n",
      "Cycle: 1. Unlabeled WSI: 20. # of training WSI: 6, # of training patches: 300\n"
     ]
    },
    {
     "name": "stderr",
     "output_type": "stream",
     "text": [
      "                                                            \r"
     ]
    },
    {
     "name": "stdout",
     "output_type": "stream",
     "text": [
      "[1/2] train loss: 1.622, train acc: 0.427, val loss: 0.000, val acc: 0.000. Time: 10.402158sec\n"
     ]
    },
    {
     "name": "stderr",
     "output_type": "stream",
     "text": [
      "                                                            \r"
     ]
    },
    {
     "name": "stdout",
     "output_type": "stream",
     "text": [
      "[2/2] train loss: 1.517, train acc: 0.397, val loss: 0.000, val acc: 0.000. Time: 4.682976sec\n"
     ]
    },
    {
     "name": "stderr",
     "output_type": "stream",
     "text": [
      "                                                             \r"
     ]
    },
    {
     "name": "stdout",
     "output_type": "stream",
     "text": [
      "Test - loss: 24.180, acc 0.340, auc: 0.668\n",
      "\n"
     ]
    },
    {
     "name": "stderr",
     "output_type": "stream",
     "text": [
      "calculate representative value for each wsi: 100%|████████████████| 20/20 [00:00<00:00, 2006.70it/s]\n",
      "selecting patches per wsi: 100%|██████████████████████████████████████| 3/3 [00:06<00:00,  2.08s/it]\n"
     ]
    },
    {
     "name": "stdout",
     "output_type": "stream",
     "text": [
      "Finish to select patch from each wsi\n",
      "# of unlabled_pool:  4242\n",
      "Cycle: 2. Unlabeled WSI: 20. # of training WSI: 9, # of training patches: 753\n"
     ]
    },
    {
     "name": "stderr",
     "output_type": "stream",
     "text": [
      "                                                            \r"
     ]
    },
    {
     "name": "stdout",
     "output_type": "stream",
     "text": [
      "[1/2] train loss: 1.262, train acc: 0.503, val loss: 0.000, val acc: 0.000. Time: 7.869311sec\n"
     ]
    },
    {
     "name": "stderr",
     "output_type": "stream",
     "text": [
      "                                                            \r"
     ]
    },
    {
     "name": "stdout",
     "output_type": "stream",
     "text": [
      "[2/2] train loss: 1.027, train acc: 0.552, val loss: 0.000, val acc: 0.000. Time: 8.010937sec\n"
     ]
    },
    {
     "name": "stderr",
     "output_type": "stream",
     "text": [
      "                                                             \r"
     ]
    },
    {
     "name": "stdout",
     "output_type": "stream",
     "text": [
      "Test - loss: 1.484, acc 0.245, auc: 0.629\n",
      "\n",
      "random, random, 2 initial wsi per class, 3 wsi per generation, 20 patches per wsi\n",
      "# of unlabled_pool:  4695\n",
      "Cycle: 1. Unlabeled WSI: 20. # of training WSI: 6, # of training patches: 300\n"
     ]
    },
    {
     "name": "stderr",
     "output_type": "stream",
     "text": [
      "                                                            \r"
     ]
    },
    {
     "name": "stdout",
     "output_type": "stream",
     "text": [
      "[1/2] train loss: 1.863, train acc: 0.397, val loss: 0.000, val acc: 0.000. Time: 2.755450sec\n"
     ]
    },
    {
     "name": "stderr",
     "output_type": "stream",
     "text": [
      "                                                            \r"
     ]
    },
    {
     "name": "stdout",
     "output_type": "stream",
     "text": [
      "[2/2] train loss: 1.467, train acc: 0.423, val loss: 0.000, val acc: 0.000. Time: 3.058632sec\n"
     ]
    },
    {
     "name": "stderr",
     "output_type": "stream",
     "text": [
      "                                                             \r"
     ]
    },
    {
     "name": "stdout",
     "output_type": "stream",
     "text": [
      "Test - loss: 1.229, acc 0.310, auc: 0.747\n",
      "\n"
     ]
    },
    {
     "name": "stderr",
     "output_type": "stream",
     "text": [
      "calculate representative value for each wsi: 100%|████████████████| 20/20 [00:00<00:00, 2508.25it/s]\n",
      "selecting patches per wsi: 100%|██████████████████████████████████████| 3/3 [00:12<00:00,  4.30s/it]\n"
     ]
    },
    {
     "name": "stdout",
     "output_type": "stream",
     "text": [
      "Finish to select patch from each wsi\n",
      "# of unlabled_pool:  4635\n",
      "Cycle: 2. Unlabeled WSI: 20. # of training WSI: 9, # of training patches: 360\n"
     ]
    },
    {
     "name": "stderr",
     "output_type": "stream",
     "text": [
      "                                                            \r"
     ]
    },
    {
     "name": "stdout",
     "output_type": "stream",
     "text": [
      "[1/2] train loss: 1.683, train acc: 0.394, val loss: 0.000, val acc: 0.000. Time: 6.050283sec\n"
     ]
    },
    {
     "name": "stderr",
     "output_type": "stream",
     "text": [
      "                                                            \r"
     ]
    },
    {
     "name": "stdout",
     "output_type": "stream",
     "text": [
      "[2/2] train loss: 1.268, train acc: 0.483, val loss: 0.000, val acc: 0.000. Time: 5.914961sec\n"
     ]
    },
    {
     "name": "stderr",
     "output_type": "stream",
     "text": [
      "                                                             \r"
     ]
    },
    {
     "name": "stdout",
     "output_type": "stream",
     "text": [
      "Test - loss: 4.437, acc 0.368, auc: 0.429\n",
      "\n",
      "random, confidence, 2 initial wsi per class, 3 wsi per generation, 20 patches per wsi\n",
      "# of unlabled_pool:  4695\n",
      "Cycle: 1. Unlabeled WSI: 20. # of training WSI: 6, # of training patches: 300\n"
     ]
    },
    {
     "name": "stderr",
     "output_type": "stream",
     "text": [
      "                                                            \r"
     ]
    },
    {
     "name": "stdout",
     "output_type": "stream",
     "text": [
      "[1/2] train loss: 1.829, train acc: 0.387, val loss: 0.000, val acc: 0.000. Time: 3.419058sec\n"
     ]
    },
    {
     "name": "stderr",
     "output_type": "stream",
     "text": [
      "                                                            \r"
     ]
    },
    {
     "name": "stdout",
     "output_type": "stream",
     "text": [
      "[2/2] train loss: 1.234, train acc: 0.450, val loss: 0.000, val acc: 0.000. Time: 5.498730sec\n"
     ]
    },
    {
     "name": "stderr",
     "output_type": "stream",
     "text": [
      "                                                             \r"
     ]
    },
    {
     "name": "stdout",
     "output_type": "stream",
     "text": [
      "Test - loss: 1.286, acc 0.417, auc: 0.636\n",
      "\n"
     ]
    },
    {
     "name": "stderr",
     "output_type": "stream",
     "text": [
      "calculate representative value for each wsi: 100%|████████████████| 20/20 [00:00<00:00, 1433.29it/s]\n",
      "selecting patches per wsi: 100%|██████████████████████████████████████| 3/3 [00:12<00:00,  4.25s/it]\n"
     ]
    },
    {
     "name": "stdout",
     "output_type": "stream",
     "text": [
      "Finish to select patch from each wsi\n",
      "# of unlabled_pool:  4635\n",
      "Cycle: 2. Unlabeled WSI: 20. # of training WSI: 9, # of training patches: 360\n"
     ]
    },
    {
     "name": "stderr",
     "output_type": "stream",
     "text": [
      "                                                            \r"
     ]
    },
    {
     "name": "stdout",
     "output_type": "stream",
     "text": [
      "[1/2] train loss: 1.487, train acc: 0.389, val loss: 0.000, val acc: 0.000. Time: 5.449426sec\n"
     ]
    },
    {
     "name": "stderr",
     "output_type": "stream",
     "text": [
      "                                                            \r"
     ]
    },
    {
     "name": "stdout",
     "output_type": "stream",
     "text": [
      "[2/2] train loss: 1.438, train acc: 0.375, val loss: 0.000, val acc: 0.000. Time: 5.642412sec\n"
     ]
    },
    {
     "name": "stderr",
     "output_type": "stream",
     "text": [
      "                                                             \r"
     ]
    },
    {
     "name": "stdout",
     "output_type": "stream",
     "text": [
      "Test - loss: 1.217, acc 0.573, auc: 0.673\n",
      "\n",
      "random, entropy, 2 initial wsi per class, 3 wsi per generation, 20 patches per wsi\n",
      "# of unlabled_pool:  4695\n",
      "Cycle: 1. Unlabeled WSI: 20. # of training WSI: 6, # of training patches: 300\n"
     ]
    },
    {
     "name": "stderr",
     "output_type": "stream",
     "text": [
      "                                                            \r"
     ]
    },
    {
     "name": "stdout",
     "output_type": "stream",
     "text": [
      "[1/2] train loss: 1.568, train acc: 0.400, val loss: 0.000, val acc: 0.000. Time: 5.477136sec\n"
     ]
    },
    {
     "name": "stderr",
     "output_type": "stream",
     "text": [
      "                                                            \r"
     ]
    },
    {
     "name": "stdout",
     "output_type": "stream",
     "text": [
      "[2/2] train loss: 1.474, train acc: 0.473, val loss: 0.000, val acc: 0.000. Time: 4.829131sec\n"
     ]
    },
    {
     "name": "stderr",
     "output_type": "stream",
     "text": [
      "                                                             \r"
     ]
    },
    {
     "name": "stdout",
     "output_type": "stream",
     "text": [
      "Test - loss: 1.353, acc 0.204, auc: 0.587\n",
      "\n"
     ]
    },
    {
     "name": "stderr",
     "output_type": "stream",
     "text": [
      "calculate representative value for each wsi: 100%|████████████████| 20/20 [00:00<00:00, 1337.79it/s]\n",
      "selecting patches per wsi: 100%|██████████████████████████████████████| 3/3 [00:15<00:00,  5.11s/it]\n"
     ]
    },
    {
     "name": "stdout",
     "output_type": "stream",
     "text": [
      "Finish to select patch from each wsi\n",
      "# of unlabled_pool:  4635\n",
      "Cycle: 2. Unlabeled WSI: 20. # of training WSI: 9, # of training patches: 360\n"
     ]
    },
    {
     "name": "stderr",
     "output_type": "stream",
     "text": [
      "                                                            \r"
     ]
    },
    {
     "name": "stdout",
     "output_type": "stream",
     "text": [
      "[1/2] train loss: 1.657, train acc: 0.356, val loss: 0.000, val acc: 0.000. Time: 5.651813sec\n"
     ]
    },
    {
     "name": "stderr",
     "output_type": "stream",
     "text": [
      "                                                            \r"
     ]
    },
    {
     "name": "stdout",
     "output_type": "stream",
     "text": [
      "[2/2] train loss: 1.280, train acc: 0.483, val loss: 0.000, val acc: 0.000. Time: 6.145557sec\n"
     ]
    },
    {
     "name": "stderr",
     "output_type": "stream",
     "text": [
      "                                                             \r"
     ]
    },
    {
     "name": "stdout",
     "output_type": "stream",
     "text": [
      "Test - loss: 1.188, acc 0.468, auc: 0.745\n",
      "\n",
      "random, coreset, 2 initial wsi per class, 3 wsi per generation, 20 patches per wsi\n",
      "# of unlabled_pool:  4695\n",
      "Cycle: 1. Unlabeled WSI: 20. # of training WSI: 6, # of training patches: 300\n"
     ]
    },
    {
     "name": "stderr",
     "output_type": "stream",
     "text": [
      "                                                            \r"
     ]
    },
    {
     "name": "stdout",
     "output_type": "stream",
     "text": [
      "[1/2] train loss: 1.676, train acc: 0.423, val loss: 0.000, val acc: 0.000. Time: 4.652550sec\n"
     ]
    },
    {
     "name": "stderr",
     "output_type": "stream",
     "text": [
      "                                                            \r"
     ]
    },
    {
     "name": "stdout",
     "output_type": "stream",
     "text": [
      "[2/2] train loss: 1.476, train acc: 0.387, val loss: 0.000, val acc: 0.000. Time: 4.566318sec\n"
     ]
    },
    {
     "name": "stderr",
     "output_type": "stream",
     "text": [
      "                                                             \r"
     ]
    },
    {
     "name": "stdout",
     "output_type": "stream",
     "text": [
      "Test - loss: 2.192, acc 0.236, auc: 0.506\n",
      "\n"
     ]
    },
    {
     "name": "stderr",
     "output_type": "stream",
     "text": [
      "calculate representative value for each wsi: 100%|████████████████| 20/20 [00:00<00:00, 1543.13it/s]\n",
      "selecting patches per wsi:  33%|████████████▋                         | 1/3 [00:07<00:15,  7.64s/it]"
     ]
    },
    {
     "name": "stdout",
     "output_type": "stream",
     "text": [
      "Max distance from cluster : 7.45\n"
     ]
    },
    {
     "name": "stderr",
     "output_type": "stream",
     "text": [
      "selecting patches per wsi:  67%|█████████████████████████▎            | 2/3 [00:15<00:07,  7.85s/it]"
     ]
    },
    {
     "name": "stdout",
     "output_type": "stream",
     "text": [
      "Max distance from cluster : 3.35\n"
     ]
    },
    {
     "name": "stderr",
     "output_type": "stream",
     "text": [
      "selecting patches per wsi: 100%|██████████████████████████████████████| 3/3 [00:25<00:00,  8.62s/it]"
     ]
    },
    {
     "name": "stdout",
     "output_type": "stream",
     "text": [
      "Max distance from cluster : 6.06\n",
      "Finish to select patch from each wsi\n",
      "# of unlabled_pool:  4635\n",
      "Cycle: 2. Unlabeled WSI: 20. # of training WSI: 9, # of training patches: 360\n"
     ]
    },
    {
     "name": "stderr",
     "output_type": "stream",
     "text": [
      "\n",
      "                                                            \r"
     ]
    },
    {
     "name": "stdout",
     "output_type": "stream",
     "text": [
      "[1/2] train loss: 1.531, train acc: 0.458, val loss: 0.000, val acc: 0.000. Time: 5.113008sec\n"
     ]
    },
    {
     "name": "stderr",
     "output_type": "stream",
     "text": [
      "                                                            \r"
     ]
    },
    {
     "name": "stdout",
     "output_type": "stream",
     "text": [
      "[2/2] train loss: 1.342, train acc: 0.483, val loss: 0.000, val acc: 0.000. Time: 5.158115sec\n"
     ]
    },
    {
     "name": "stderr",
     "output_type": "stream",
     "text": [
      "                                                             \r"
     ]
    },
    {
     "name": "stdout",
     "output_type": "stream",
     "text": [
      "Test - loss: 1.513, acc 0.276, auc: 0.518\n",
      "\n",
      "random, badge, 2 initial wsi per class, 3 wsi per generation, 20 patches per wsi\n",
      "# of unlabled_pool:  4695\n",
      "Cycle: 1. Unlabeled WSI: 20. # of training WSI: 6, # of training patches: 300\n"
     ]
    },
    {
     "name": "stderr",
     "output_type": "stream",
     "text": [
      "                                                            \r"
     ]
    },
    {
     "name": "stdout",
     "output_type": "stream",
     "text": [
      "[1/2] train loss: 1.754, train acc: 0.370, val loss: 0.000, val acc: 0.000. Time: 3.866932sec\n"
     ]
    },
    {
     "name": "stderr",
     "output_type": "stream",
     "text": [
      "                                                            \r"
     ]
    },
    {
     "name": "stdout",
     "output_type": "stream",
     "text": [
      "[2/2] train loss: 1.432, train acc: 0.420, val loss: 0.000, val acc: 0.000. Time: 4.675030sec\n"
     ]
    },
    {
     "name": "stderr",
     "output_type": "stream",
     "text": [
      "                                                             \r"
     ]
    },
    {
     "name": "stdout",
     "output_type": "stream",
     "text": [
      "Test - loss: 1.182, acc 0.342, auc: 0.568\n",
      "\n"
     ]
    },
    {
     "name": "stderr",
     "output_type": "stream",
     "text": [
      "calculate representative value for each wsi: 100%|████████████████| 20/20 [00:00<00:00, 1433.63it/s]\n",
      "selecting patches per wsi: 100%|██████████████████████████████████████| 3/3 [00:33<00:00, 11.13s/it]\n"
     ]
    },
    {
     "name": "stdout",
     "output_type": "stream",
     "text": [
      "Finish to select patch from each wsi\n",
      "# of unlabled_pool:  4635\n",
      "Cycle: 2. Unlabeled WSI: 20. # of training WSI: 9, # of training patches: 360\n"
     ]
    },
    {
     "name": "stderr",
     "output_type": "stream",
     "text": [
      "                                                            \r"
     ]
    },
    {
     "name": "stdout",
     "output_type": "stream",
     "text": [
      "[1/2] train loss: 1.439, train acc: 0.464, val loss: 0.000, val acc: 0.000. Time: 4.946391sec\n"
     ]
    },
    {
     "name": "stderr",
     "output_type": "stream",
     "text": [
      "                                                            \r"
     ]
    },
    {
     "name": "stdout",
     "output_type": "stream",
     "text": [
      "[2/2] train loss: 1.473, train acc: 0.433, val loss: 0.000, val acc: 0.000. Time: 5.276927sec\n"
     ]
    },
    {
     "name": "stderr",
     "output_type": "stream",
     "text": [
      "                                                             \r"
     ]
    },
    {
     "name": "stdout",
     "output_type": "stream",
     "text": [
      "Test - loss: 1.799, acc 0.452, auc: 0.473\n",
      "\n",
      "class_conf, passive, 2 initial wsi per class, 3 wsi per generation, 20 patches per wsi\n",
      "# of unlabled_pool:  4695\n",
      "Cycle: 1. Unlabeled WSI: 20. # of training WSI: 6, # of training patches: 300\n"
     ]
    },
    {
     "name": "stderr",
     "output_type": "stream",
     "text": [
      "                                                            \r"
     ]
    },
    {
     "name": "stdout",
     "output_type": "stream",
     "text": [
      "[1/2] train loss: 1.670, train acc: 0.353, val loss: 0.000, val acc: 0.000. Time: 4.565457sec\n"
     ]
    },
    {
     "name": "stderr",
     "output_type": "stream",
     "text": [
      "                                                            \r"
     ]
    },
    {
     "name": "stdout",
     "output_type": "stream",
     "text": [
      "[2/2] train loss: 1.386, train acc: 0.440, val loss: 0.000, val acc: 0.000. Time: 3.866530sec\n"
     ]
    },
    {
     "name": "stderr",
     "output_type": "stream",
     "text": [
      "                                                             \r"
     ]
    },
    {
     "name": "stdout",
     "output_type": "stream",
     "text": [
      "Test - loss: 3.445, acc 0.393, auc: 0.685\n",
      "\n"
     ]
    },
    {
     "name": "stderr",
     "output_type": "stream",
     "text": [
      "calculate representative value for each wsi:   0%|                           | 0/20 [00:00<?, ?it/s]\n"
     ]
    },
    {
     "ename": "TypeError",
     "evalue": "cannot unpack non-iterable NoneType object",
     "output_type": "error",
     "traceback": [
      "\u001b[1;31m---------------------------------------------------------------------------\u001b[0m",
      "\u001b[1;31mTypeError\u001b[0m                                 Traceback (most recent call last)",
      "Cell \u001b[1;32mIn[1], line 62\u001b[0m\n\u001b[0;32m     60\u001b[0m \u001b[38;5;28;01mwith\u001b[39;00m \u001b[38;5;28mopen\u001b[39m(log_file, \u001b[38;5;124m\"\u001b[39m\u001b[38;5;124ma\u001b[39m\u001b[38;5;124m\"\u001b[39m) \u001b[38;5;28;01mas\u001b[39;00m logger:\n\u001b[0;32m     61\u001b[0m     logger\u001b[38;5;241m.\u001b[39mwrite(\u001b[38;5;124m\"\u001b[39m\u001b[38;5;124mcycle, number_of_wsi,number_of_patches_per_wsi, train_patches, auroc_score, accuracy\u001b[39m\u001b[38;5;130;01m\\n\u001b[39;00m\u001b[38;5;124m\"\u001b[39m)\n\u001b[1;32m---> 62\u001b[0m     \u001b[43mmain\u001b[49m\u001b[43m(\u001b[49m\n\u001b[0;32m     63\u001b[0m \u001b[43m    \u001b[49m\u001b[43mpatch_strategy\u001b[49m\u001b[38;5;241;43m=\u001b[39;49m\u001b[43mpatch_strategy\u001b[49m\u001b[43m,\u001b[49m\n\u001b[0;32m     64\u001b[0m \u001b[43m    \u001b[49m\u001b[43mwsi_patch_score\u001b[49m\u001b[43m \u001b[49m\u001b[38;5;241;43m=\u001b[39;49m\u001b[43m \u001b[49m\u001b[43mwsi_patch_score\u001b[49m\u001b[43m,\u001b[49m\u001b[43m \u001b[49m\n\u001b[0;32m     65\u001b[0m \u001b[43m    \u001b[49m\u001b[43mwsi_rep_method\u001b[49m\u001b[43m \u001b[49m\u001b[38;5;241;43m=\u001b[39;49m\u001b[43m \u001b[49m\u001b[43mwsi_rep_method\u001b[49m\u001b[43m,\u001b[49m\n\u001b[0;32m     66\u001b[0m \u001b[43m    \u001b[49m\u001b[43minitial_wsi_per_class\u001b[49m\u001b[38;5;241;43m=\u001b[39;49m\u001b[43minitial_wsi_per_class\u001b[49m\u001b[43m,\u001b[49m\n\u001b[0;32m     67\u001b[0m \u001b[43m    \u001b[49m\u001b[43mnum_wsi_per_generation\u001b[49m\u001b[38;5;241;43m=\u001b[39;49m\u001b[43mnum_wsi_per_generation\u001b[49m\u001b[43m,\u001b[49m\n\u001b[0;32m     68\u001b[0m \u001b[43m    \u001b[49m\u001b[43mnum_patches_per_wsi\u001b[49m\u001b[38;5;241;43m=\u001b[39;49m\u001b[43mnum_patches_per_wsi\u001b[49m\u001b[43m,\u001b[49m\n\u001b[0;32m     69\u001b[0m \u001b[43m    \u001b[49m\u001b[43mlogger\u001b[49m\u001b[38;5;241;43m=\u001b[39;49m\u001b[43mlogger\u001b[49m\u001b[43m,\u001b[49m\n\u001b[0;32m     70\u001b[0m \u001b[43m    \u001b[49m\u001b[43mtrial_number\u001b[49m\u001b[38;5;241;43m=\u001b[39;49m\u001b[43mtrial_number\u001b[49m\u001b[43m,\u001b[49m\n\u001b[0;32m     71\u001b[0m \u001b[43m    \u001b[49m\u001b[43mbase_dir\u001b[49m\u001b[43m \u001b[49m\u001b[38;5;241;43m=\u001b[39;49m\u001b[43m \u001b[49m\u001b[43mlog_dir\u001b[49m\u001b[43m)\u001b[49m \n",
      "File \u001b[1;32mc:\\Users\\user\\Desktop\\code\\WISE_rep\\WSI_active_learning.py:153\u001b[0m, in \u001b[0;36mmain\u001b[1;34m(patch_strategy, wsi_patch_score, wsi_rep_method, initial_wsi_per_class, num_wsi_per_generation, num_patches_per_wsi, logger, trial_number, base_dir)\u001b[0m\n\u001b[0;32m    149\u001b[0m     selected_slides \u001b[38;5;241m=\u001b[39m selected_wsi_per_iter_in_csv[selected_wsi_per_iter_in_csv[\u001b[38;5;124m\"\u001b[39m\u001b[38;5;124mselected\u001b[39m\u001b[38;5;124m\"\u001b[39m]  \u001b[38;5;241m==\u001b[39m\u001b[38;5;241m1\u001b[39m][\u001b[38;5;124m\"\u001b[39m\u001b[38;5;124mslide_name\u001b[39m\u001b[38;5;124m\"\u001b[39m]\u001b[38;5;241m.\u001b[39mtolist()\n\u001b[0;32m    152\u001b[0m \u001b[38;5;28;01melse\u001b[39;00m : \n\u001b[1;32m--> 153\u001b[0m     selected_slides, selected_wsi_per_iter_in_csv \u001b[38;5;241m=\u001b[39m \u001b[43mselect_wsi_by_strategy\u001b[49m\u001b[43m(\u001b[49m\u001b[43m                    \u001b[49m\n\u001b[0;32m    154\u001b[0m \u001b[43m                \u001b[49m\u001b[43mcycle\u001b[49m\u001b[38;5;241;43m=\u001b[39;49m\u001b[43mcycle\u001b[49m\u001b[43m,\u001b[49m\n\u001b[0;32m    155\u001b[0m \u001b[43m                \u001b[49m\u001b[43mwsi_patch_score\u001b[49m\u001b[43m \u001b[49m\u001b[38;5;241;43m=\u001b[39;49m\u001b[43m \u001b[49m\u001b[43mwsi_patch_score\u001b[49m\u001b[43m,\u001b[49m\u001b[43m \u001b[49m\n\u001b[0;32m    156\u001b[0m \u001b[43m                \u001b[49m\u001b[43mwsi_rep_method\u001b[49m\u001b[43m \u001b[49m\u001b[38;5;241;43m=\u001b[39;49m\u001b[43m \u001b[49m\u001b[43mwsi_rep_method\u001b[49m\u001b[43m,\u001b[49m\u001b[43m \u001b[49m\n\u001b[0;32m    157\u001b[0m \u001b[43m                \u001b[49m\u001b[43mmodel\u001b[49m\u001b[43m \u001b[49m\u001b[38;5;241;43m=\u001b[39;49m\u001b[43m \u001b[49m\u001b[43mmodel\u001b[49m\u001b[43m,\u001b[49m\u001b[43m \u001b[49m\n\u001b[0;32m    158\u001b[0m \u001b[43m                \u001b[49m\u001b[43mlabel_data\u001b[49m\u001b[43m \u001b[49m\u001b[38;5;241;43m=\u001b[39;49m\u001b[43m \u001b[49m\u001b[43mlabel_patch_wsi\u001b[49m\u001b[43m,\u001b[49m\n\u001b[0;32m    159\u001b[0m \u001b[43m                \u001b[49m\u001b[43mfull_data\u001b[49m\u001b[43m \u001b[49m\u001b[38;5;241;43m=\u001b[39;49m\u001b[43m \u001b[49m\u001b[43mfull_train_pool\u001b[49m\u001b[43m,\u001b[49m\n\u001b[0;32m    160\u001b[0m \u001b[43m                \u001b[49m\u001b[43munlabel_data\u001b[49m\u001b[38;5;241;43m=\u001b[39;49m\u001b[43m \u001b[49m\u001b[43munlabeled_pool\u001b[49m\u001b[43m,\u001b[49m\n\u001b[0;32m    161\u001b[0m \u001b[43m                \u001b[49m\u001b[43mclasses\u001b[49m\u001b[38;5;241;43m=\u001b[39;49m\u001b[43mCLASSES\u001b[49m\u001b[43m,\u001b[49m\n\u001b[0;32m    162\u001b[0m \u001b[43m                \u001b[49m\u001b[43mbatch_size\u001b[49m\u001b[38;5;241;43m=\u001b[39;49m\u001b[43mBATCH_SIZE\u001b[49m\u001b[43m,\u001b[49m\n\u001b[0;32m    163\u001b[0m \u001b[43m                \u001b[49m\u001b[43mnum_slides\u001b[49m\u001b[38;5;241;43m=\u001b[39;49m\u001b[43mnum_wsi_per_generation\u001b[49m\u001b[43m,\u001b[49m\u001b[43m \u001b[49m\n\u001b[0;32m    164\u001b[0m \u001b[43m                \u001b[49m\u001b[43mnum_patches_per_wsi\u001b[49m\u001b[43m \u001b[49m\u001b[38;5;241;43m=\u001b[39;49m\u001b[43m \u001b[49m\u001b[43mnum_patches_per_wsi\u001b[49m\n\u001b[0;32m    165\u001b[0m \u001b[43m                \u001b[49m\u001b[43m)\u001b[49m\n\u001b[0;32m    167\u001b[0m selected_patch, selected_patch_per_iter_in_csv \u001b[38;5;241m=\u001b[39m select_patch_by_strategy(\n\u001b[0;32m    168\u001b[0m                 cycle\u001b[38;5;241m=\u001b[39mcycle,\n\u001b[0;32m    169\u001b[0m                 selected_slides \u001b[38;5;241m=\u001b[39m selected_slides,\n\u001b[1;32m   (...)\u001b[0m\n\u001b[0;32m    175\u001b[0m                 batch_size\u001b[38;5;241m=\u001b[39mBATCH_SIZE,\n\u001b[0;32m    176\u001b[0m                 num_patches_per_slide\u001b[38;5;241m=\u001b[39mnum_patches_per_wsi)\n\u001b[0;32m    178\u001b[0m \u001b[38;5;28mprint\u001b[39m(\u001b[38;5;124m\"\u001b[39m\u001b[38;5;124mFinish to select patch from each wsi\u001b[39m\u001b[38;5;124m\"\u001b[39m)\n",
      "File \u001b[1;32mc:\\Users\\user\\Desktop\\code\\WISE_rep\\src\\utils_selection_per_slide.py:132\u001b[0m, in \u001b[0;36mselect_wsi_by_strategy\u001b[1;34m(cycle, wsi_patch_score, wsi_rep_method, model, label_data, full_data, unlabel_data, classes, batch_size, num_slides, num_patches_per_wsi)\u001b[0m\n\u001b[0;32m    129\u001b[0m \u001b[38;5;28;01mfor\u001b[39;00m wsi \u001b[38;5;129;01min\u001b[39;00m tqdm(n_slides, desc \u001b[38;5;241m=\u001b[39m \u001b[38;5;124m\"\u001b[39m\u001b[38;5;124mcalculate representative value for each wsi\u001b[39m\u001b[38;5;124m\"\u001b[39m, ncols \u001b[38;5;241m=\u001b[39m \u001b[38;5;241m100\u001b[39m): \n\u001b[0;32m    130\u001b[0m     patch_result_per_wsi \u001b[38;5;241m=\u001b[39m model_result_df\u001b[38;5;241m.\u001b[39mloc[model_result_df[\u001b[38;5;124m'\u001b[39m\u001b[38;5;124mslide_name\u001b[39m\u001b[38;5;124m'\u001b[39m]\u001b[38;5;241m==\u001b[39mwsi]\n\u001b[1;32m--> 132\u001b[0m     score \u001b[38;5;241m=\u001b[39m \u001b[43mcal_wsi_score\u001b[49m\u001b[43m(\u001b[49m\u001b[43mpatch_result_per_wsi\u001b[49m\u001b[43m,\u001b[49m\u001b[43m \u001b[49m\u001b[43mwsi_patch_score\u001b[49m\u001b[43m,\u001b[49m\u001b[43m \u001b[49m\u001b[43mwsi_rep_method\u001b[49m\u001b[43m,\u001b[49m\u001b[43m \u001b[49m\u001b[43mlabel_lambda\u001b[49m\u001b[43m)\u001b[49m\n\u001b[0;32m    133\u001b[0m     class_ \u001b[38;5;241m=\u001b[39m patch_result_per_wsi[\u001b[38;5;124m'\u001b[39m\u001b[38;5;124mlabel\u001b[39m\u001b[38;5;124m'\u001b[39m]\u001b[38;5;241m.\u001b[39miloc[\u001b[38;5;241m0\u001b[39m]\n\u001b[0;32m    134\u001b[0m     cls_dic \u001b[38;5;241m=\u001b[39m {\u001b[38;5;241m0\u001b[39m : \u001b[38;5;124m\"\u001b[39m\u001b[38;5;124mD\u001b[39m\u001b[38;5;124m\"\u001b[39m, \u001b[38;5;241m1\u001b[39m : \u001b[38;5;124m\"\u001b[39m\u001b[38;5;124mM\u001b[39m\u001b[38;5;124m\"\u001b[39m, \u001b[38;5;241m2\u001b[39m: \u001b[38;5;124m\"\u001b[39m\u001b[38;5;124mN\u001b[39m\u001b[38;5;124m\"\u001b[39m}\n",
      "File \u001b[1;32mc:\\Users\\user\\Desktop\\code\\WISE_rep\\src\\utils_calculation.py:160\u001b[0m, in \u001b[0;36mcal_wsi_score\u001b[1;34m(patch_result_df, wsi_patch_score, wsi_rep_method, label_lambda)\u001b[0m\n\u001b[0;32m    157\u001b[0m     wsi_score \u001b[38;5;241m=\u001b[39m [cal_weighted_prob(N_filtered_df), cal_weighted_prob(D_filtered_df), cal_weighted_prob(M_filtered_df)]\n\u001b[0;32m    159\u001b[0m \u001b[38;5;28;01melif\u001b[39;00m wsi_patch_score \u001b[38;5;241m==\u001b[39m \u001b[38;5;124m'\u001b[39m\u001b[38;5;124mclass_conf\u001b[39m\u001b[38;5;124m'\u001b[39m : \n\u001b[1;32m--> 160\u001b[0m     n_wsi_lambda,d_wsi_lambda,m_wsi_lambda \u001b[38;5;241m=\u001b[39m label_lambda\n\u001b[0;32m    161\u001b[0m     n_opt, d_opt, m_opt \u001b[38;5;241m=\u001b[39m cal_opt_lambda(patch_result_df, \u001b[38;5;28mfilter\u001b[39m \u001b[38;5;241m=\u001b[39m \u001b[38;5;28;01mTrue\u001b[39;00m, threshold\u001b[38;5;241m=\u001b[39m\u001b[38;5;241m0.99\u001b[39m, train_lambda\u001b[38;5;241m=\u001b[39mn_wsi_lambda)\n\u001b[0;32m    162\u001b[0m     new_lambda \u001b[38;5;241m=\u001b[39m [n_opt, d_opt, m_opt]\n",
      "\u001b[1;31mTypeError\u001b[0m: cannot unpack non-iterable NoneType object"
     ]
    }
   ],
   "source": [
    "from pathlib import Path\n",
    "\n",
    "from WSI_active_learning import main\n",
    "\n",
    "CLASSES = ['D', 'M', 'N']\n",
    "INITIAL_WSI_PER_CLASS = [2]\n",
    "NUM_WSI_PER_GENERATION = [3] \n",
    "NUM_PATCHES_PER_WSI = [20]    \n",
    "\n",
    "#PATCH_STRATEGY = ['passive', 'random','confidence', 'entropy', 'coreset', 'badge'] \n",
    "PATCH_STRATEGY = ['confidence'] \n",
    "\n",
    "WSI_PATCH_SCORE = [\"random\", \"confidence\", \"entropy\", \"cdal\", \"class_conf\"] \n",
    "#WSI_PATCH_SCORE = ['class_conf'] # 'entropy', 'confidence', 'class_conf', 'cdal' \n",
    "\n",
    "WSI_REP_METHOD = [\"random\", \"average\", \"cdal\", \"kl_dis_x\", \"kl_rep\", \"kl_rank\", \"js_dis_x\", \"js_rep\", \"js_rank\"]\n",
    "#WSI_REP_METHOD = ['kl_rep'] \n",
    "\n",
    "\n",
    "MODEL_NAME = 'resnet' #'vgg','resnet'\n",
    "NUM_RUNS = 1    # RUN THE CODE K TIMES\n",
    "\n",
    "\n",
    "check = True \n",
    "if check == True : \n",
    "    for _ in range(NUM_RUNS):\n",
    "        trial_number = 1\n",
    "        base_dir = \"log/test/trial_\"\n",
    "\n",
    "        while Path(f\"{base_dir}{trial_number}\").exists():\n",
    "            trial_number += 1\n",
    "        log_dir = f\"{base_dir}{trial_number}\"\n",
    "        Path(log_dir).mkdir(exist_ok=False, parents=True)\n",
    "        print(f\"Log dir: {log_dir}\")\n",
    "        \n",
    "        for wsi_rep_method in WSI_REP_METHOD : \n",
    "            for wsi_patch_score in WSI_PATCH_SCORE:\n",
    "                for patch_strategy in PATCH_STRATEGY : \n",
    "\n",
    "                    if wsi_patch_score == \"random\" : \n",
    "                        if wsi_rep_method != \"random\" : continue \n",
    "\n",
    "                    elif wsi_patch_score in [\"confidence\", \"entropy\"] : \n",
    "                        if wsi_rep_method != 'average' : continue \n",
    "\n",
    "                    elif wsi_patch_score == \"cdal\" : \n",
    "                        if wsi_rep_method != 'cdal' : continue \n",
    "                    \n",
    "                    else : \n",
    "                        if wsi_rep_method not in [\"kl_dis_x\", \"kl_rep\", \"kl_rank\", \"js_dis_x\", \"js_rep\", \"js_rank\"] : continue\n",
    "\n",
    "                    for initial_wsi_per_class in INITIAL_WSI_PER_CLASS:  \n",
    "                        logger_name = f\"{wsi_patch_score}_{wsi_rep_method}_{patch_strategy}_{initial_wsi_per_class}WSI\"\n",
    "                        log_file = f\"{log_dir}/test_{MODEL_NAME}_{logger_name}.txt\"\n",
    "                    \n",
    "                        for num_wsi_per_generation in NUM_WSI_PER_GENERATION:\n",
    "\n",
    "                            for num_patches_per_wsi in NUM_PATCHES_PER_WSI: \n",
    "                                print(f\" {wsi_rep_method}, {wsi_patch_score}, {patch_strategy}, {initial_wsi_per_class} initial wsi per class, {num_wsi_per_generation} wsi per generation, {num_patches_per_wsi} patches per wsi\")\n",
    "                                with open(log_file, \"a\") as logger:\n",
    "                                    logger.write(\"cycle, number_of_wsi,number_of_patches_per_wsi, train_patches, auroc_score, accuracy\\n\")\n",
    "                                    main(\n",
    "                                    patch_strategy=patch_strategy,\n",
    "                                    wsi_patch_score = wsi_patch_score, \n",
    "                                    wsi_rep_method = wsi_rep_method,\n",
    "                                    initial_wsi_per_class=initial_wsi_per_class,\n",
    "                                    num_wsi_per_generation=num_wsi_per_generation,\n",
    "                                    num_patches_per_wsi=num_patches_per_wsi,\n",
    "                                    logger=logger,\n",
    "                                    trial_number=trial_number,\n",
    "                                    base_dir = log_dir) \n",
    "\n",
    "    "
   ]
  }
 ],
 "metadata": {
  "kernelspec": {
   "display_name": "active_learning",
   "language": "python",
   "name": "python3"
  },
  "language_info": {
   "codemirror_mode": {
    "name": "ipython",
    "version": 3
   },
   "file_extension": ".py",
   "mimetype": "text/x-python",
   "name": "python",
   "nbconvert_exporter": "python",
   "pygments_lexer": "ipython3",
   "version": "3.10.6"
  },
  "orig_nbformat": 4
 },
 "nbformat": 4,
 "nbformat_minor": 2
}
